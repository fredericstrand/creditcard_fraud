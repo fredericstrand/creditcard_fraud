{
 "cells": [
  {
   "cell_type": "markdown",
   "metadata": {},
   "source": [
    "# Credit Card Fraud Detection\n",
    "\n",
    "This project aims to detect credit card fraud.\n",
    "\n",
    "#### **Description**\n",
    "This dataset contains credit card transactions made by European cardholders in the year 2023. It comprises over 550,000 records, and the data has been anonymized to protect the cardholders' identities. The primary objective of this dataset is to facilitate the development of fraud detection algorithms and models to identify potentially fraudulent transactions.\n",
    "\n",
    "#### **Key features of the data:**\n",
    "*   `id:` Unique identifier for each transaction\n",
    "*   `V1-V28:` Anonymized features representing various transaction attributes (e.g., time, location, etc.)\n",
    "*   `Amount:` The transaction amount\n",
    "*   `Class:` Binary label indicating whether the transaction is fraudulent (1) or not (0)\n",
    "\n",
    "##### **Source:**\n",
    "The dataset is from: https://www.kaggle.com/datasets/nelgiriyewithana/credit-card-fraud-detection-dataset-2023\n",
    "\n",
    "\n",
    "#### Support for the project\n",
    "\n",
    "* Throughout the project I've used Yann-Aël Le Borgne and Patrick Chong github repository for support and insight on how to approach this problem in a good way. So definetly check their repo out.Link: https://github.com/Fraud-Detection-Handbook/fraud-detection-handbook?tab=readme-ov-file\n",
    "* I've also used Adrien Payong and Abdeladim Fadheli's article on the subject. You can read their article at this link: https://thepythoncode.com/article/credit-card-fraud-detection-using-sklearn-in-python\n"
   ]
  },
  {
   "cell_type": "code",
   "execution_count": 24,
   "metadata": {},
   "outputs": [],
   "source": [
    "# Standard imports\n",
    "import numpy as np\n",
    "import pandas as pd\n",
    "\n",
    "# Visualizations\n",
    "import matplotlib.pyplot as plt\n",
    "import seaborn as sns\n",
    "\n",
    "# Tensorflow imports\n",
    "from tensorflow.keras.models import Sequential"
   ]
  },
  {
   "cell_type": "markdown",
   "metadata": {},
   "source": [
    "# Importing and exploring the data\n",
    "\n",
    "You could use the Kaggle API for continouus updates, but it is just easier to do it manually. Therefore you could check if the data has been updated before using this. "
   ]
  },
  {
   "cell_type": "code",
   "execution_count": 25,
   "metadata": {},
   "outputs": [
    {
     "data": {
      "text/html": [
       "<div>\n",
       "<style scoped>\n",
       "    .dataframe tbody tr th:only-of-type {\n",
       "        vertical-align: middle;\n",
       "    }\n",
       "\n",
       "    .dataframe tbody tr th {\n",
       "        vertical-align: top;\n",
       "    }\n",
       "\n",
       "    .dataframe thead th {\n",
       "        text-align: right;\n",
       "    }\n",
       "</style>\n",
       "<table border=\"1\" class=\"dataframe\">\n",
       "  <thead>\n",
       "    <tr style=\"text-align: right;\">\n",
       "      <th></th>\n",
       "      <th>Time</th>\n",
       "      <th>V1</th>\n",
       "      <th>V2</th>\n",
       "      <th>V3</th>\n",
       "      <th>V4</th>\n",
       "      <th>V5</th>\n",
       "      <th>V6</th>\n",
       "      <th>V7</th>\n",
       "      <th>V8</th>\n",
       "      <th>V9</th>\n",
       "      <th>...</th>\n",
       "      <th>V21</th>\n",
       "      <th>V22</th>\n",
       "      <th>V23</th>\n",
       "      <th>V24</th>\n",
       "      <th>V25</th>\n",
       "      <th>V26</th>\n",
       "      <th>V27</th>\n",
       "      <th>V28</th>\n",
       "      <th>Amount</th>\n",
       "      <th>Class</th>\n",
       "    </tr>\n",
       "  </thead>\n",
       "  <tbody>\n",
       "    <tr>\n",
       "      <th>0</th>\n",
       "      <td>0.0</td>\n",
       "      <td>-1.359807</td>\n",
       "      <td>-0.072781</td>\n",
       "      <td>2.536347</td>\n",
       "      <td>1.378155</td>\n",
       "      <td>-0.338321</td>\n",
       "      <td>0.462388</td>\n",
       "      <td>0.239599</td>\n",
       "      <td>0.098698</td>\n",
       "      <td>0.363787</td>\n",
       "      <td>...</td>\n",
       "      <td>-0.018307</td>\n",
       "      <td>0.277838</td>\n",
       "      <td>-0.110474</td>\n",
       "      <td>0.066928</td>\n",
       "      <td>0.128539</td>\n",
       "      <td>-0.189115</td>\n",
       "      <td>0.133558</td>\n",
       "      <td>-0.021053</td>\n",
       "      <td>149.62</td>\n",
       "      <td>0</td>\n",
       "    </tr>\n",
       "    <tr>\n",
       "      <th>1</th>\n",
       "      <td>0.0</td>\n",
       "      <td>1.191857</td>\n",
       "      <td>0.266151</td>\n",
       "      <td>0.166480</td>\n",
       "      <td>0.448154</td>\n",
       "      <td>0.060018</td>\n",
       "      <td>-0.082361</td>\n",
       "      <td>-0.078803</td>\n",
       "      <td>0.085102</td>\n",
       "      <td>-0.255425</td>\n",
       "      <td>...</td>\n",
       "      <td>-0.225775</td>\n",
       "      <td>-0.638672</td>\n",
       "      <td>0.101288</td>\n",
       "      <td>-0.339846</td>\n",
       "      <td>0.167170</td>\n",
       "      <td>0.125895</td>\n",
       "      <td>-0.008983</td>\n",
       "      <td>0.014724</td>\n",
       "      <td>2.69</td>\n",
       "      <td>0</td>\n",
       "    </tr>\n",
       "    <tr>\n",
       "      <th>2</th>\n",
       "      <td>1.0</td>\n",
       "      <td>-1.358354</td>\n",
       "      <td>-1.340163</td>\n",
       "      <td>1.773209</td>\n",
       "      <td>0.379780</td>\n",
       "      <td>-0.503198</td>\n",
       "      <td>1.800499</td>\n",
       "      <td>0.791461</td>\n",
       "      <td>0.247676</td>\n",
       "      <td>-1.514654</td>\n",
       "      <td>...</td>\n",
       "      <td>0.247998</td>\n",
       "      <td>0.771679</td>\n",
       "      <td>0.909412</td>\n",
       "      <td>-0.689281</td>\n",
       "      <td>-0.327642</td>\n",
       "      <td>-0.139097</td>\n",
       "      <td>-0.055353</td>\n",
       "      <td>-0.059752</td>\n",
       "      <td>378.66</td>\n",
       "      <td>0</td>\n",
       "    </tr>\n",
       "    <tr>\n",
       "      <th>3</th>\n",
       "      <td>1.0</td>\n",
       "      <td>-0.966272</td>\n",
       "      <td>-0.185226</td>\n",
       "      <td>1.792993</td>\n",
       "      <td>-0.863291</td>\n",
       "      <td>-0.010309</td>\n",
       "      <td>1.247203</td>\n",
       "      <td>0.237609</td>\n",
       "      <td>0.377436</td>\n",
       "      <td>-1.387024</td>\n",
       "      <td>...</td>\n",
       "      <td>-0.108300</td>\n",
       "      <td>0.005274</td>\n",
       "      <td>-0.190321</td>\n",
       "      <td>-1.175575</td>\n",
       "      <td>0.647376</td>\n",
       "      <td>-0.221929</td>\n",
       "      <td>0.062723</td>\n",
       "      <td>0.061458</td>\n",
       "      <td>123.50</td>\n",
       "      <td>0</td>\n",
       "    </tr>\n",
       "    <tr>\n",
       "      <th>4</th>\n",
       "      <td>2.0</td>\n",
       "      <td>-1.158233</td>\n",
       "      <td>0.877737</td>\n",
       "      <td>1.548718</td>\n",
       "      <td>0.403034</td>\n",
       "      <td>-0.407193</td>\n",
       "      <td>0.095921</td>\n",
       "      <td>0.592941</td>\n",
       "      <td>-0.270533</td>\n",
       "      <td>0.817739</td>\n",
       "      <td>...</td>\n",
       "      <td>-0.009431</td>\n",
       "      <td>0.798278</td>\n",
       "      <td>-0.137458</td>\n",
       "      <td>0.141267</td>\n",
       "      <td>-0.206010</td>\n",
       "      <td>0.502292</td>\n",
       "      <td>0.219422</td>\n",
       "      <td>0.215153</td>\n",
       "      <td>69.99</td>\n",
       "      <td>0</td>\n",
       "    </tr>\n",
       "  </tbody>\n",
       "</table>\n",
       "<p>5 rows × 31 columns</p>\n",
       "</div>"
      ],
      "text/plain": [
       "   Time        V1        V2        V3        V4        V5        V6        V7  \\\n",
       "0   0.0 -1.359807 -0.072781  2.536347  1.378155 -0.338321  0.462388  0.239599   \n",
       "1   0.0  1.191857  0.266151  0.166480  0.448154  0.060018 -0.082361 -0.078803   \n",
       "2   1.0 -1.358354 -1.340163  1.773209  0.379780 -0.503198  1.800499  0.791461   \n",
       "3   1.0 -0.966272 -0.185226  1.792993 -0.863291 -0.010309  1.247203  0.237609   \n",
       "4   2.0 -1.158233  0.877737  1.548718  0.403034 -0.407193  0.095921  0.592941   \n",
       "\n",
       "         V8        V9  ...       V21       V22       V23       V24       V25  \\\n",
       "0  0.098698  0.363787  ... -0.018307  0.277838 -0.110474  0.066928  0.128539   \n",
       "1  0.085102 -0.255425  ... -0.225775 -0.638672  0.101288 -0.339846  0.167170   \n",
       "2  0.247676 -1.514654  ...  0.247998  0.771679  0.909412 -0.689281 -0.327642   \n",
       "3  0.377436 -1.387024  ... -0.108300  0.005274 -0.190321 -1.175575  0.647376   \n",
       "4 -0.270533  0.817739  ... -0.009431  0.798278 -0.137458  0.141267 -0.206010   \n",
       "\n",
       "        V26       V27       V28  Amount  Class  \n",
       "0 -0.189115  0.133558 -0.021053  149.62      0  \n",
       "1  0.125895 -0.008983  0.014724    2.69      0  \n",
       "2 -0.139097 -0.055353 -0.059752  378.66      0  \n",
       "3 -0.221929  0.062723  0.061458  123.50      0  \n",
       "4  0.502292  0.219422  0.215153   69.99      0  \n",
       "\n",
       "[5 rows x 31 columns]"
      ]
     },
     "execution_count": 25,
     "metadata": {},
     "output_type": "execute_result"
    }
   ],
   "source": [
    "credit_df = pd.read_csv(\"data/creditcard.csv\")\n",
    "credit_df.head()"
   ]
  },
  {
   "cell_type": "code",
   "execution_count": 26,
   "metadata": {},
   "outputs": [
    {
     "name": "stdout",
     "output_type": "stream",
     "text": [
      "Average Amount in a Fraudulent Transaction:  122.21132113821139\n",
      "Average Amount in a Valid Transaction:  88.29102242231328\n"
     ]
    }
   ],
   "source": [
    "print(\"Average Amount in a Fraudulent Transaction: \", credit_df[credit_df[\"Class\"] == 1][\"Amount\"].mean())\n",
    "print(\"Average Amount in a Valid Transaction: \", credit_df[credit_df[\"Class\"] == 0][\"Amount\"].mean())"
   ]
  },
  {
   "cell_type": "markdown",
   "metadata": {},
   "source": [
    "**NOTE**\n",
    "The high amount is most likely due to anonymization and confidentiality issues. Otherwise, it seems unlikely that the average amount is this high. Therefore, in a real world application this might effect the performance of the model I'll build in this notebook.\n",
    "\n",
    "Due to the anonymization it is hard to make useful plots for insight into the data, so I've landed on just using a correlation matrix without reading to much into it."
   ]
  },
  {
   "cell_type": "code",
   "execution_count": 27,
   "metadata": {},
   "outputs": [
    {
     "data": {
      "image/png": "[encoded data removed]",
      "text/plain": [
       "<Figure size 700x500 with 2 Axes>"
      ]
     },
     "metadata": {},
     "output_type": "display_data"
    }
   ],
   "source": [
    "plt.figure(figsize=(7, 5))\n",
    "sns.heatmap(credit_df.corr(), cmap='coolwarm', annot=False)\n",
    "plt.title('Correlation Matrix');"
   ]
  },
  {
   "cell_type": "markdown",
   "metadata": {},
   "source": [
    "Judging by the correlation matrix, it seems the last 10 anonomous columns are not highly correlated to much of the data."
   ]
  },
  {
   "cell_type": "markdown",
   "metadata": {},
   "source": [
    "# Preparing the data for training\n",
    "\n",
    "After importing the data we need to make sure there are no issues which will cause problems later on.\n",
    "\n",
    "### First issues to tackle:\n",
    "* Check for empty cells or NaN\n",
    "* Check the distribution of targets (0 or 1)\n",
    "* Scale the time and amount columns\n",
    "* Shuffle the data\n",
    "* Split into training and test sets"
   ]
  },
  {
   "cell_type": "code",
   "execution_count": 28,
   "metadata": {},
   "outputs": [
    {
     "name": "stdout",
     "output_type": "stream",
     "text": [
      "<class 'pandas.core.frame.DataFrame'>\n",
      "RangeIndex: 284807 entries, 0 to 284806\n",
      "Data columns (total 31 columns):\n",
      " #   Column  Non-Null Count   Dtype  \n",
      "---  ------  --------------   -----  \n",
      " 0   Time    284807 non-null  float64\n",
      " 1   V1      284807 non-null  float64\n",
      " 2   V2      284807 non-null  float64\n",
      " 3   V3      284807 non-null  float64\n",
      " 4   V4      284807 non-null  float64\n",
      " 5   V5      284807 non-null  float64\n",
      " 6   V6      284807 non-null  float64\n",
      " 7   V7      284807 non-null  float64\n",
      " 8   V8      284807 non-null  float64\n",
      " 9   V9      284807 non-null  float64\n",
      " 10  V10     284807 non-null  float64\n",
      " 11  V11     284807 non-null  float64\n",
      " 12  V12     284807 non-null  float64\n",
      " 13  V13     284807 non-null  float64\n",
      " 14  V14     284807 non-null  float64\n",
      " 15  V15     284807 non-null  float64\n",
      " 16  V16     284807 non-null  float64\n",
      " 17  V17     284807 non-null  float64\n",
      " 18  V18     284807 non-null  float64\n",
      " 19  V19     284807 non-null  float64\n",
      " 20  V20     284807 non-null  float64\n",
      " 21  V21     284807 non-null  float64\n",
      " 22  V22     284807 non-null  float64\n",
      " 23  V23     284807 non-null  float64\n",
      " 24  V24     284807 non-null  float64\n",
      " 25  V25     284807 non-null  float64\n",
      " 26  V26     284807 non-null  float64\n",
      " 27  V27     284807 non-null  float64\n",
      " 28  V28     284807 non-null  float64\n",
      " 29  Amount  284807 non-null  float64\n",
      " 30  Class   284807 non-null  int64  \n",
      "dtypes: float64(30), int64(1)\n",
      "memory usage: 67.4 MB\n"
     ]
    }
   ],
   "source": [
    "# Check for empty cells or NaN\n",
    "credit_df.info()"
   ]
  },
  {
   "cell_type": "markdown",
   "metadata": {},
   "source": [
    "Good, there seems to be noe empty cells. And the columns V1-V28 are already normalized."
   ]
  },
  {
   "cell_type": "code",
   "execution_count": 29,
   "metadata": {},
   "outputs": [
    {
     "name": "stdout",
     "output_type": "stream",
     "text": [
      "Class\n",
      "0    284315\n",
      "1       492\n",
      "Name: count, dtype: int64\n"
     ]
    }
   ],
   "source": [
    "class_counts = credit_df['Class'].value_counts()\n",
    "print(class_counts)"
   ]
  },
  {
   "cell_type": "code",
   "execution_count": 30,
   "metadata": {},
   "outputs": [
    {
     "name": "stdout",
     "output_type": "stream",
     "text": [
      "Summary of the feature - Amount\n",
      "-------------------------------\n",
      "count    284807.000000\n",
      "mean         88.349619\n",
      "std         250.120109\n",
      "min           0.000000\n",
      "25%           5.600000\n",
      "50%          22.000000\n",
      "75%          77.165000\n",
      "max       25691.160000\n",
      "Name: Amount, dtype: float64\n"
     ]
    }
   ],
   "source": [
    "print(\"Summary of the feature - Amount\" + \"\\n-------------------------------\")\n",
    "print(credit_df[\"Amount\"].describe())"
   ]
  },
  {
   "cell_type": "markdown",
   "metadata": {},
   "source": [
    "Scale the time and amount columns with RobustScaler from sklearn"
   ]
  },
  {
   "cell_type": "code",
   "execution_count": 31,
   "metadata": {},
   "outputs": [],
   "source": [
    "from sklearn.preprocessing import RobustScaler\n",
    "\n",
    "scaler = RobustScaler().fit(credit_df[[\"Time\", \"Amount\"]])\n",
    "credit_df[[\"Time\", \"Amount\"]] = scaler.transform(credit_df[[\"Time\", \"Amount\"]])"
   ]
  },
  {
   "cell_type": "code",
   "execution_count": 43,
   "metadata": {},
   "outputs": [
    {
     "name": "stdout",
     "output_type": "stream",
     "text": [
      "(227845, 30) (227845,) (56962, 30) (56962,)\n"
     ]
    }
   ],
   "source": [
    "# Shuffle the dataset\n",
    "credit_df = credit_df.sample(frac=1, random_state=42).reset_index(drop=True)\n",
    "\n",
    "from sklearn.model_selection import train_test_split\n",
    "\n",
    "X = credit_df.drop(columns=['Class'])\n",
    "y = credit_df['Class']\n",
    "\n",
    "X_train, X_test, y_train, y_test = train_test_split(X, y, test_size=0.2, random_state=42)\n",
    "\n",
    "print(X_train.shape, y_train.shape, X_test.shape, y_test.shape)"
   ]
  },
  {
   "cell_type": "markdown",
   "metadata": {},
   "source": [
    "# Building the framework\n",
    "\n",
    "This will be the finished model, but when building this I will have tried different approaches."
   ]
  },
  {
   "cell_type": "markdown",
   "metadata": {},
   "source": [
    "## 1. Baseline model\n",
    "\n",
    "I'll be using a baseline model as a refernce point to help me decide if the more complex models improve performance substantially. The baseline model can also highlight data issues early. This will be used as the minimum performance benchmark, and will prevent unnecessary model complexity. For this I'll be using sklearn function, but the other ones I'll build from scratch to maximize understanding and learning potential."
   ]
  },
  {
   "cell_type": "code",
   "execution_count": 33,
   "metadata": {},
   "outputs": [
    {
     "name": "stdout",
     "output_type": "stream",
     "text": [
      "Classification Report:\n",
      "               precision    recall  f1-score   support\n",
      "\n",
      "   Non-Fraud       1.00      0.97      0.99     56863\n",
      "       Fraud       0.06      0.90      0.11        99\n",
      "\n",
      "    accuracy                           0.97     56962\n",
      "   macro avg       0.53      0.94      0.55     56962\n",
      "weighted avg       1.00      0.97      0.99     56962\n",
      "\n",
      "ROC-AUC Score: 0.9637819909877311\n"
     ]
    }
   ],
   "source": [
    "from sklearn.linear_model import LogisticRegression\n",
    "from sklearn.metrics import classification_report, roc_auc_score, roc_curve, confusion_matrix\n",
    "\n",
    "log_reg = LogisticRegression(max_iter=1000, class_weight='balanced', random_state=42)\n",
    "log_reg.fit(X_train, y_train)\n",
    "\n",
    "# Make predictions on the test set\n",
    "y_pred = log_reg.predict(X_test)\n",
    "y_pred_proba = log_reg.predict_proba(X_test)[:, 1]\n",
    "\n",
    "# Classification report\n",
    "print(\"Classification Report:\\n\", classification_report(y_test, y_pred, target_names=['Non-Fraud', 'Fraud']))\n",
    "\n",
    "# ROC-AUC score\n",
    "roc_auc_baseline = roc_auc_score(y_test, y_pred_proba)\n",
    "print(\"ROC-AUC Score:\", roc_auc_baseline)\n"
   ]
  },
  {
   "cell_type": "markdown",
   "metadata": {},
   "source": [
    "## 2. Functions for model\n",
    "\n",
    "### 2.1 Performance metrics\n",
    "\n",
    "*   `Precision:` The proportion of correctly predicted positive cases out of all cases predicted as positive, indicating model reliability in positive predictions.\n",
    "*   `Recall:` The proportion of actual positive cases that the model correctly identifies, measuring sensitivity to true positives.\n",
    "*   `F1-score:` The harmonic mean of precision and recall, balancing both metrics to handle class imbalance effectively.\n",
    "*   `AUC:` Measures the model’s overall classification performance by calculating the True Positive Rate (TPR) and False Positive Rate (FPR) across thresholds, then finding the area under the ROC curve."
   ]
  },
  {
   "cell_type": "code",
   "execution_count": 34,
   "metadata": {},
   "outputs": [],
   "source": [
    "def checkanswers(y_true, y_pred):\n",
    "    TP = FP = TN = FN = 0\n",
    "    for true, pred in zip(y_true, y_pred):\n",
    "        if true == 1 and pred == 1:\n",
    "            TP += 1\n",
    "        elif true == 0 and pred == 0:\n",
    "            TN += 1\n",
    "        elif true == 0 and pred == 1:\n",
    "            FP += 1\n",
    "        elif true == 1 and pred == 0:\n",
    "            FN += 1\n",
    "    cm = np.array([[TN, FP], [FN, TP]])\n",
    "    return cm"
   ]
  },
  {
   "cell_type": "code",
   "execution_count": 35,
   "metadata": {},
   "outputs": [],
   "source": [
    "def precision_recall_f1(cm):\n",
    "    TP = cm[1, 1]  # True Positives\n",
    "    FP = cm[0, 1]  # False Positives\n",
    "    FN = cm[1, 0]  # False Negatives\n",
    "    \n",
    "    precision = TP / (TP + FP) if (TP + FP) != 0 else 0\n",
    "    recall = TP / (TP + FN) if (TP + FN) != 0 else 0\n",
    "    f1_score = 2 * precision * recall / (precision + recall) if (precision + recall) != 0 else 0\n",
    "    \n",
    "    return precision, recall, f1_score\n",
    "\n",
    "def roc_curve_and_auc(y_true, y_scores):\n",
    "    thresholds = np.linspace(0, 1, 100)\n",
    "    tpr_list, fpr_list = zip(*[\n",
    "        (\n",
    "            sum((y_pred := (y_scores >= t)) & y_true) / sum(y_true),\n",
    "            sum(y_pred & ~y_true) / sum(~y_true)\n",
    "        )\n",
    "        for t in thresholds\n",
    "    ])\n",
    "    return np.trapz(tpr_list, fpr_list)\n"
   ]
  },
  {
   "cell_type": "markdown",
   "metadata": {},
   "source": [
    "### 2.2 Building first suggestion for model: Autoencoder + DNN\n",
    "\n",
    "I'll use a hybrid model with an `Autoencoder` and a standard neural network `(DNN)` to detect creditcard fraud. The Autoencoder will flag high-reconstruction-error transactions as potential fraud. Then use the DNN on flagged transactions for further classification refinement.\n",
    "\n",
    "#### Activation and Loss functions :"
   ]
  },
  {
   "cell_type": "code",
   "execution_count": 36,
   "metadata": {},
   "outputs": [],
   "source": [
    "# Activation functions\n",
    "def relu(x):\n",
    "    return np.maximum(0, x)\n",
    "\n",
    "def relu_derivative(x):\n",
    "    return np.where(x > 0, 1, 0)\n",
    "\n",
    "def sigmoid(x):\n",
    "    return 1 / (1 + np.exp(-x))\n",
    "\n",
    "def sigmoid_derivative(x):\n",
    "    return sigmoid(x) * (1 - sigmoid(x))\n",
    "\n",
    "# Loss functions\n",
    "def mean_squared_error(y_true, y_pred):\n",
    "    return np.mean((y_true - y_pred)**2)\n",
    "\n",
    "def binary_cross_entropy(y_true, y_pred):\n",
    "    y_pred = np.clip(y_pred, 1e-10, 1 - 1e-10)\n",
    "    return -np.mean(y_true * np.log(y_pred) + (1 - y_true)*np.log(1 - y_pred))\n",
    "\n",
    "\n",
    "# Initializer to improve gradient time\n",
    "def xavier_init(size):\n",
    "    return np.random.randn(*size) * np.sqrt(2 / (size[0] + size[1]))"
   ]
  },
  {
   "cell_type": "markdown",
   "metadata": {},
   "source": [
    "Now we want to build the autoencoder model. EXPLAINATION:::::"
   ]
  },
  {
   "cell_type": "code",
   "execution_count": 44,
   "metadata": {},
   "outputs": [],
   "source": [
    "class Autoencoder:\n",
    "    def __init__(self, input_dim, hidden_dims):\n",
    "        self.weights = []\n",
    "        self.biases = []\n",
    "        \n",
    "        # Encoder layers\n",
    "        prev_dim = input_dim\n",
    "        for h_dim in hidden_dims:\n",
    "            self.weights.append(xavier_init((prev_dim, h_dim)))\n",
    "            self.biases.append(np.zeros((1, h_dim)))\n",
    "            prev_dim = h_dim\n",
    "\n",
    "        # Decoder layers (symmetrical)\n",
    "        for h_dim in reversed(hidden_dims[:-1]):\n",
    "            self.weights.append(xavier_init((prev_dim, h_dim)))\n",
    "            self.biases.append(np.zeros((1, h_dim)))\n",
    "            prev_dim = h_dim\n",
    "        \n",
    "        # Output layer\n",
    "        self.weights.append(xavier_init((prev_dim, input_dim)))\n",
    "        self.biases.append(np.zeros((1, input_dim)))\n",
    "\n",
    "    def forward(self, x):\n",
    "        self.activations = [x]\n",
    "        for i, (w, b) in enumerate(zip(self.weights, self.biases)):\n",
    "            x = np.dot(x, w) + b\n",
    "            x = relu(x)\n",
    "            self.activations.append(x)\n",
    "            print(f\"Layer {i+1} activation shape: {x.shape}\")\n",
    "        return x\n",
    "\n",
    "    def backward(self, x, learning_rate=0.01):\n",
    "        delta = (self.activations[-1] - x) * relu_derivative(self.activations[-1])\n",
    "        for i in range(len(self.weights) - 1, -1, -1):\n",
    "            grad_w = np.dot(self.activations[i].T, delta) / x.shape[0]\n",
    "            grad_b = np.mean(delta, axis=0, keepdims=True)\n",
    "            delta = np.dot(delta, self.weights[i].T) * relu_derivative(self.activations[i])\n",
    "            self.weights[i] -= learning_rate * grad_w\n",
    "            self.biases[i] -= learning_rate * grad_b\n",
    "\n",
    "    def train(self, x, epochs, learning_rate=0.01):\n",
    "        x = np.array(x)\n",
    "        for epoch in range(epochs):\n",
    "            output = self.forward(x)\n",
    "            loss = mean_squared_error(x, output)\n",
    "            self.backward(x, learning_rate)\n",
    "            if epoch % 10 == 0:\n",
    "                print(f\"Epoch {epoch}, Loss: {loss}\")\n",
    "        return loss"
   ]
  },
  {
   "cell_type": "code",
   "execution_count": null,
   "metadata": {},
   "outputs": [],
   "source": []
  }
 ],
 "metadata": {
  "kernelspec": {
   "display_name": "credit_fraud_env",
   "language": "python",
   "name": "python3"
  },
  "language_info": {
   "codemirror_mode": {
    "name": "ipython",
    "version": 3
   },
   "file_extension": ".py",
   "mimetype": "text/x-python",
   "name": "python",
   "nbconvert_exporter": "python",
   "pygments_lexer": "ipython3",
   "version": "3.9.6"
  }
 },
 "nbformat": 4,
 "nbformat_minor": 2
}
