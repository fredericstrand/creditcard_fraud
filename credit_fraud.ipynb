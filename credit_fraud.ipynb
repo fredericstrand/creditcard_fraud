{
 "cells": [
  {
   "cell_type": "markdown",
   "metadata": {},
   "source": [
    "# Credit Card Fraud Detection\n",
    "\n",
    "This project aims to detect credit card fraud.\n",
    "\n",
    "#### **Description**\n",
    "This dataset contains credit card transactions made by European cardholders in the year 2023. It comprises over 550,000 records, and the data has been anonymized to protect the cardholders' identities. The primary objective of this dataset is to facilitate the development of fraud detection algorithms and models to identify potentially fraudulent transactions.\n",
    "\n",
    "#### **Key features of the data:**\n",
    "*   `id:` Unique identifier for each transaction\n",
    "*   `V1-V28:` Anonymized features representing various transaction attributes (e.g., time, location, etc.)\n",
    "*   `Amount:` The transaction amount\n",
    "*   `Class:` Binary label indicating whether the transaction is fraudulent (1) or not (0)\n",
    "\n",
    "##### **Source:**\n",
    "The dataset is from: https://www.kaggle.com/datasets/nelgiriyewithana/credit-card-fraud-detection-dataset-2023\n",
    "\n",
    "\n",
    "#### Support for the project\n",
    "\n",
    "* Throughout the project I've used Yann-Aël Le Borgne and Patrick Chong github repository for support and insight on how to approach this problem in a good way. So definetly check their repo out.Link: https://github.com/Fraud-Detection-Handbook/fraud-detection-handbook?tab=readme-ov-file\n",
    "* I've also used Adrien Payong and Abdeladim Fadheli's article on the subject. You can read their article at this link: https://thepythoncode.com/article/credit-card-fraud-detection-using-sklearn-in-python\n"
   ]
  },
  {
   "cell_type": "code",
   "execution_count": 7,
   "metadata": {},
   "outputs": [],
   "source": [
    "# Standard imports\n",
    "import numpy as np\n",
    "import pandas as pd\n",
    "\n",
    "# Visualizations\n",
    "import matplotlib.pyplot as plt\n",
    "import seaborn as sns"
   ]
  },
  {
   "cell_type": "markdown",
   "metadata": {},
   "source": [
    "# Importing and exploring the data\n",
    "\n",
    "You could use the Kaggle API for continouus updates, but it is just easier to do it manually. Therefore you could check if the data has been updated before using this. "
   ]
  },
  {
   "cell_type": "code",
   "execution_count": 8,
   "metadata": {},
   "outputs": [
    {
     "data": {
      "text/html": [
       "<div>\n",
       "<style scoped>\n",
       "    .dataframe tbody tr th:only-of-type {\n",
       "        vertical-align: middle;\n",
       "    }\n",
       "\n",
       "    .dataframe tbody tr th {\n",
       "        vertical-align: top;\n",
       "    }\n",
       "\n",
       "    .dataframe thead th {\n",
       "        text-align: right;\n",
       "    }\n",
       "</style>\n",
       "<table border=\"1\" class=\"dataframe\">\n",
       "  <thead>\n",
       "    <tr style=\"text-align: right;\">\n",
       "      <th></th>\n",
       "      <th>id</th>\n",
       "      <th>V1</th>\n",
       "      <th>V2</th>\n",
       "      <th>V3</th>\n",
       "      <th>V4</th>\n",
       "      <th>V5</th>\n",
       "      <th>V6</th>\n",
       "      <th>V7</th>\n",
       "      <th>V8</th>\n",
       "      <th>V9</th>\n",
       "      <th>...</th>\n",
       "      <th>V21</th>\n",
       "      <th>V22</th>\n",
       "      <th>V23</th>\n",
       "      <th>V24</th>\n",
       "      <th>V25</th>\n",
       "      <th>V26</th>\n",
       "      <th>V27</th>\n",
       "      <th>V28</th>\n",
       "      <th>Amount</th>\n",
       "      <th>Class</th>\n",
       "    </tr>\n",
       "  </thead>\n",
       "  <tbody>\n",
       "    <tr>\n",
       "      <th>0</th>\n",
       "      <td>0</td>\n",
       "      <td>-0.260648</td>\n",
       "      <td>-0.469648</td>\n",
       "      <td>2.496266</td>\n",
       "      <td>-0.083724</td>\n",
       "      <td>0.129681</td>\n",
       "      <td>0.732898</td>\n",
       "      <td>0.519014</td>\n",
       "      <td>-0.130006</td>\n",
       "      <td>0.727159</td>\n",
       "      <td>...</td>\n",
       "      <td>-0.110552</td>\n",
       "      <td>0.217606</td>\n",
       "      <td>-0.134794</td>\n",
       "      <td>0.165959</td>\n",
       "      <td>0.126280</td>\n",
       "      <td>-0.434824</td>\n",
       "      <td>-0.081230</td>\n",
       "      <td>-0.151045</td>\n",
       "      <td>17982.10</td>\n",
       "      <td>0</td>\n",
       "    </tr>\n",
       "    <tr>\n",
       "      <th>1</th>\n",
       "      <td>1</td>\n",
       "      <td>0.985100</td>\n",
       "      <td>-0.356045</td>\n",
       "      <td>0.558056</td>\n",
       "      <td>-0.429654</td>\n",
       "      <td>0.277140</td>\n",
       "      <td>0.428605</td>\n",
       "      <td>0.406466</td>\n",
       "      <td>-0.133118</td>\n",
       "      <td>0.347452</td>\n",
       "      <td>...</td>\n",
       "      <td>-0.194936</td>\n",
       "      <td>-0.605761</td>\n",
       "      <td>0.079469</td>\n",
       "      <td>-0.577395</td>\n",
       "      <td>0.190090</td>\n",
       "      <td>0.296503</td>\n",
       "      <td>-0.248052</td>\n",
       "      <td>-0.064512</td>\n",
       "      <td>6531.37</td>\n",
       "      <td>0</td>\n",
       "    </tr>\n",
       "    <tr>\n",
       "      <th>2</th>\n",
       "      <td>2</td>\n",
       "      <td>-0.260272</td>\n",
       "      <td>-0.949385</td>\n",
       "      <td>1.728538</td>\n",
       "      <td>-0.457986</td>\n",
       "      <td>0.074062</td>\n",
       "      <td>1.419481</td>\n",
       "      <td>0.743511</td>\n",
       "      <td>-0.095576</td>\n",
       "      <td>-0.261297</td>\n",
       "      <td>...</td>\n",
       "      <td>-0.005020</td>\n",
       "      <td>0.702906</td>\n",
       "      <td>0.945045</td>\n",
       "      <td>-1.154666</td>\n",
       "      <td>-0.605564</td>\n",
       "      <td>-0.312895</td>\n",
       "      <td>-0.300258</td>\n",
       "      <td>-0.244718</td>\n",
       "      <td>2513.54</td>\n",
       "      <td>0</td>\n",
       "    </tr>\n",
       "    <tr>\n",
       "      <th>3</th>\n",
       "      <td>3</td>\n",
       "      <td>-0.152152</td>\n",
       "      <td>-0.508959</td>\n",
       "      <td>1.746840</td>\n",
       "      <td>-1.090178</td>\n",
       "      <td>0.249486</td>\n",
       "      <td>1.143312</td>\n",
       "      <td>0.518269</td>\n",
       "      <td>-0.065130</td>\n",
       "      <td>-0.205698</td>\n",
       "      <td>...</td>\n",
       "      <td>-0.146927</td>\n",
       "      <td>-0.038212</td>\n",
       "      <td>-0.214048</td>\n",
       "      <td>-1.893131</td>\n",
       "      <td>1.003963</td>\n",
       "      <td>-0.515950</td>\n",
       "      <td>-0.165316</td>\n",
       "      <td>0.048424</td>\n",
       "      <td>5384.44</td>\n",
       "      <td>0</td>\n",
       "    </tr>\n",
       "    <tr>\n",
       "      <th>4</th>\n",
       "      <td>4</td>\n",
       "      <td>-0.206820</td>\n",
       "      <td>-0.165280</td>\n",
       "      <td>1.527053</td>\n",
       "      <td>-0.448293</td>\n",
       "      <td>0.106125</td>\n",
       "      <td>0.530549</td>\n",
       "      <td>0.658849</td>\n",
       "      <td>-0.212660</td>\n",
       "      <td>1.049921</td>\n",
       "      <td>...</td>\n",
       "      <td>-0.106984</td>\n",
       "      <td>0.729727</td>\n",
       "      <td>-0.161666</td>\n",
       "      <td>0.312561</td>\n",
       "      <td>-0.414116</td>\n",
       "      <td>1.071126</td>\n",
       "      <td>0.023712</td>\n",
       "      <td>0.419117</td>\n",
       "      <td>14278.97</td>\n",
       "      <td>0</td>\n",
       "    </tr>\n",
       "  </tbody>\n",
       "</table>\n",
       "<p>5 rows × 31 columns</p>\n",
       "</div>"
      ],
      "text/plain": [
       "   id        V1        V2        V3        V4        V5        V6        V7  \\\n",
       "0   0 -0.260648 -0.469648  2.496266 -0.083724  0.129681  0.732898  0.519014   \n",
       "1   1  0.985100 -0.356045  0.558056 -0.429654  0.277140  0.428605  0.406466   \n",
       "2   2 -0.260272 -0.949385  1.728538 -0.457986  0.074062  1.419481  0.743511   \n",
       "3   3 -0.152152 -0.508959  1.746840 -1.090178  0.249486  1.143312  0.518269   \n",
       "4   4 -0.206820 -0.165280  1.527053 -0.448293  0.106125  0.530549  0.658849   \n",
       "\n",
       "         V8        V9  ...       V21       V22       V23       V24       V25  \\\n",
       "0 -0.130006  0.727159  ... -0.110552  0.217606 -0.134794  0.165959  0.126280   \n",
       "1 -0.133118  0.347452  ... -0.194936 -0.605761  0.079469 -0.577395  0.190090   \n",
       "2 -0.095576 -0.261297  ... -0.005020  0.702906  0.945045 -1.154666 -0.605564   \n",
       "3 -0.065130 -0.205698  ... -0.146927 -0.038212 -0.214048 -1.893131  1.003963   \n",
       "4 -0.212660  1.049921  ... -0.106984  0.729727 -0.161666  0.312561 -0.414116   \n",
       "\n",
       "        V26       V27       V28    Amount  Class  \n",
       "0 -0.434824 -0.081230 -0.151045  17982.10      0  \n",
       "1  0.296503 -0.248052 -0.064512   6531.37      0  \n",
       "2 -0.312895 -0.300258 -0.244718   2513.54      0  \n",
       "3 -0.515950 -0.165316  0.048424   5384.44      0  \n",
       "4  1.071126  0.023712  0.419117  14278.97      0  \n",
       "\n",
       "[5 rows x 31 columns]"
      ]
     },
     "execution_count": 8,
     "metadata": {},
     "output_type": "execute_result"
    }
   ],
   "source": [
    "credit_df = pd.read_csv(\"data/creditcard_2023.csv\")\n",
    "credit_df.head()"
   ]
  },
  {
   "cell_type": "code",
   "execution_count": 9,
   "metadata": {},
   "outputs": [
    {
     "name": "stdout",
     "output_type": "stream",
     "text": [
      "Average Amount in a Fraudulent Transaction:  12057.601763361063\n",
      "Average Amount in a Valid Transaction:  12026.313505794627\n"
     ]
    }
   ],
   "source": [
    "print(\"Average Amount in a Fraudulent Transaction: \", credit_df[credit_df[\"Class\"] == 1][\"Amount\"].mean())\n",
    "print(\"Average Amount in a Valid Transaction: \", credit_df[credit_df[\"Class\"] == 0][\"Amount\"].mean())"
   ]
  },
  {
   "cell_type": "markdown",
   "metadata": {},
   "source": [
    "**NOTE**\n",
    "The high amount is most likely due to anonymization and confidentiality issues. Otherwise, it seems unlikely that the average amount is this high. Therefore, in a real world application this might effect the performance of the model I'll build in this notebook.\n",
    "\n",
    "Due to the anonymization it is hard to make useful plots for insight into the data, so I've landed on just using a correlation matrix without reading to much into it."
   ]
  },
  {
   "cell_type": "code",
   "execution_count": 10,
   "metadata": {},
   "outputs": [
    {
     "data": {
      "image/png": "[encoded data removed]",
      "text/plain": [
       "<Figure size 700x500 with 2 Axes>"
      ]
     },
     "metadata": {},
     "output_type": "display_data"
    }
   ],
   "source": [
    "plt.figure(figsize=(7, 5))\n",
    "sns.heatmap(credit_df.corr(), cmap='coolwarm', annot=False)\n",
    "plt.title('Correlation Matrix');"
   ]
  },
  {
   "cell_type": "markdown",
   "metadata": {},
   "source": [
    "Judging by the correlation matrix, it seems the last 10 anonomous columns are not highly correlated to much of the data."
   ]
  },
  {
   "cell_type": "markdown",
   "metadata": {},
   "source": [
    "# Preparing the data for training\n",
    "\n",
    "After importing the data we need to make sure there are no issues which will cause problems later on.\n",
    "\n",
    "### First issues to tackle:\n",
    "* I will drop the first column, since it is just the same as the id column\n",
    "* Check for empty cells or NaN\n",
    "* Check the distribution of targets (0 or 1)\n",
    "* Shuffle the data\n",
    "* Split into training and test sets"
   ]
  },
  {
   "cell_type": "code",
   "execution_count": 11,
   "metadata": {},
   "outputs": [
    {
     "name": "stdout",
     "output_type": "stream",
     "text": [
      "<class 'pandas.core.frame.DataFrame'>\n",
      "Index: 568630 entries, 0 to 568629\n",
      "Data columns (total 30 columns):\n",
      " #   Column  Non-Null Count   Dtype  \n",
      "---  ------  --------------   -----  \n",
      " 0   V1      568630 non-null  float64\n",
      " 1   V2      568630 non-null  float64\n",
      " 2   V3      568630 non-null  float64\n",
      " 3   V4      568630 non-null  float64\n",
      " 4   V5      568630 non-null  float64\n",
      " 5   V6      568630 non-null  float64\n",
      " 6   V7      568630 non-null  float64\n",
      " 7   V8      568630 non-null  float64\n",
      " 8   V9      568630 non-null  float64\n",
      " 9   V10     568630 non-null  float64\n",
      " 10  V11     568630 non-null  float64\n",
      " 11  V12     568630 non-null  float64\n",
      " 12  V13     568630 non-null  float64\n",
      " 13  V14     568630 non-null  float64\n",
      " 14  V15     568630 non-null  float64\n",
      " 15  V16     568630 non-null  float64\n",
      " 16  V17     568630 non-null  float64\n",
      " 17  V18     568630 non-null  float64\n",
      " 18  V19     568630 non-null  float64\n",
      " 19  V20     568630 non-null  float64\n",
      " 20  V21     568630 non-null  float64\n",
      " 21  V22     568630 non-null  float64\n",
      " 22  V23     568630 non-null  float64\n",
      " 23  V24     568630 non-null  float64\n",
      " 24  V25     568630 non-null  float64\n",
      " 25  V26     568630 non-null  float64\n",
      " 26  V27     568630 non-null  float64\n",
      " 27  V28     568630 non-null  float64\n",
      " 28  Amount  568630 non-null  float64\n",
      " 29  Class   568630 non-null  int64  \n",
      "dtypes: float64(29), int64(1)\n",
      "memory usage: 134.5 MB\n"
     ]
    }
   ],
   "source": [
    "# Dropping the first column\n",
    "credit_df = credit_df.set_index(\"id\")\n",
    "\n",
    "# Check for empty cells or NaN\n",
    "credit_df.info()"
   ]
  },
  {
   "cell_type": "markdown",
   "metadata": {},
   "source": [
    "Good, there seems to be noe empty cells. And the columns V1-V28 are already normalized."
   ]
  },
  {
   "cell_type": "code",
   "execution_count": 12,
   "metadata": {},
   "outputs": [
    {
     "name": "stdout",
     "output_type": "stream",
     "text": [
      "Class\n",
      "0    284315\n",
      "1    284315\n",
      "Name: count, dtype: int64\n"
     ]
    }
   ],
   "source": [
    "class_counts = credit_df['Class'].value_counts()\n",
    "print(class_counts)"
   ]
  },
  {
   "cell_type": "markdown",
   "metadata": {},
   "source": [
    "The target values are perfectly distributed as well. Now we only need to shuffle the data and split into training and test sets"
   ]
  },
  {
   "cell_type": "code",
   "execution_count": 13,
   "metadata": {},
   "outputs": [
    {
     "data": {
      "text/plain": [
       "((454904, 29), (454904,), (113726, 29), (113726,))"
      ]
     },
     "execution_count": 13,
     "metadata": {},
     "output_type": "execute_result"
    }
   ],
   "source": [
    "# Shuffle the dataset\n",
    "credit_df = credit_df.sample(frac=1, random_state=42).reset_index(drop=True)\n",
    "\n",
    "# Define the split ratio\n",
    "train_ratio = 0.8\n",
    "train_size = int(len(credit_df) * train_ratio)\n",
    "\n",
    "# Split the data into training and testing sets\n",
    "train_data = credit_df[:train_size]\n",
    "test_data = credit_df[train_size:]\n",
    "\n",
    "X_train = train_data.drop(columns=['Class'])\n",
    "y_train = train_data['Class']\n",
    "X_test = test_data.drop(columns=['Class'])\n",
    "y_test = test_data['Class']\n",
    "\n",
    "X_train.shape, y_train.shape, X_test.shape, y_test.shape"
   ]
  },
  {
   "cell_type": "markdown",
   "metadata": {},
   "source": [
    "# Building the framework\n",
    "\n",
    "This will be the finished model, but when building this I will have tried different approaches."
   ]
  },
  {
   "cell_type": "markdown",
   "metadata": {},
   "source": [
    "## 1. Baseline model\n",
    "\n",
    "I'll be using a baseline model as a refernce point to help me decide if the more complex models improve performance substantially. The baseline model can also highlight data issues early. This will be used as the minimum performance benchmark, and will prevent unnecessary model complexity. For this I'll be using sklearn function, but the other ones I'll build from scratch to maximize understanding and learning potential."
   ]
  },
  {
   "cell_type": "code",
   "execution_count": 14,
   "metadata": {},
   "outputs": [
    {
     "name": "stdout",
     "output_type": "stream",
     "text": [
      "Classification Report:\n",
      "               precision    recall  f1-score   support\n",
      "\n",
      "   Non-Fraud       0.95      0.98      0.96     56950\n",
      "       Fraud       0.98      0.95      0.96     56776\n",
      "\n",
      "    accuracy                           0.96    113726\n",
      "   macro avg       0.96      0.96      0.96    113726\n",
      "weighted avg       0.96      0.96      0.96    113726\n",
      "\n",
      "ROC-AUC Score: 0.9934758078602998\n"
     ]
    },
    {
     "name": "stderr",
     "output_type": "stream",
     "text": [
      "/Users/fredericstrand/Documents/python-projects/credit_fraud/credit_fraud_env/lib/python3.9/site-packages/sklearn/linear_model/_logistic.py:469: ConvergenceWarning: lbfgs failed to converge (status=1):\n",
      "STOP: TOTAL NO. of ITERATIONS REACHED LIMIT.\n",
      "\n",
      "Increase the number of iterations (max_iter) or scale the data as shown in:\n",
      "    https://scikit-learn.org/stable/modules/preprocessing.html\n",
      "Please also refer to the documentation for alternative solver options:\n",
      "    https://scikit-learn.org/stable/modules/linear_model.html#logistic-regression\n",
      "  n_iter_i = _check_optimize_result(\n"
     ]
    }
   ],
   "source": [
    "from sklearn.linear_model import LogisticRegression\n",
    "from sklearn.metrics import classification_report, roc_auc_score, roc_curve, confusion_matrix\n",
    "\n",
    "log_reg = LogisticRegression(max_iter=1000, class_weight='balanced', random_state=42)\n",
    "log_reg.fit(X_train, y_train)\n",
    "\n",
    "# Make predictions on the test set\n",
    "y_pred = log_reg.predict(X_test)\n",
    "y_pred_proba = log_reg.predict_proba(X_test)[:, 1]\n",
    "\n",
    "# Classification report\n",
    "print(\"Classification Report:\\n\", classification_report(y_test, y_pred, target_names=['Non-Fraud', 'Fraud']))\n",
    "\n",
    "# ROC-AUC score\n",
    "roc_auc_baseline = roc_auc_score(y_test, y_pred_proba)\n",
    "print(\"ROC-AUC Score:\", roc_auc_baseline)\n"
   ]
  },
  {
   "cell_type": "markdown",
   "metadata": {},
   "source": [
    "## 2. Functions for model\n",
    "\n",
    "### 2.1 Performance metrics\n",
    "\n",
    "*   `Precision:` The proportion of correctly predicted positive cases out of all cases predicted as positive, indicating model reliability in positive predictions.\n",
    "*   `Recall:` The proportion of actual positive cases that the model correctly identifies, measuring sensitivity to true positives.\n",
    "*   `F1-score:` The harmonic mean of precision and recall, balancing both metrics to handle class imbalance effectively.\n",
    "*   `AUC:` Measures the model’s overall classification performance by calculating the True Positive Rate (TPR) and False Positive Rate (FPR) across thresholds, then finding the area under the ROC curve."
   ]
  },
  {
   "cell_type": "code",
   "execution_count": 15,
   "metadata": {},
   "outputs": [],
   "source": [
    "def checkanswers(y_true, y_pred):\n",
    "    TP = FP = TN = FN = 0\n",
    "    for true, pred in zip(y_true, y_pred):\n",
    "        if true == 1 and pred == 1:\n",
    "            TP += 1\n",
    "        elif true == 0 and pred == 0:\n",
    "            TN += 1\n",
    "        elif true == 0 and pred == 1:\n",
    "            FP += 1\n",
    "        elif true == 1 and pred == 0:\n",
    "            FN += 1\n",
    "    cm = np.array([[TN, FP], [FN, TP]])\n",
    "    return cm"
   ]
  },
  {
   "cell_type": "code",
   "execution_count": 16,
   "metadata": {},
   "outputs": [],
   "source": [
    "def precision_recall_f1(cm):\n",
    "\n",
    "    cm = calculate_confusion_matrix(y_true, y_pred)\n",
    "    \n",
    "    TP = cm[1, 1]  # True Positives\n",
    "    FP = cm[0, 1]  # False Positives\n",
    "    FN = cm[1, 0]  # False Negatives\n",
    "    \n",
    "    precision = TP / (TP + FP) if (TP + FP) != 0 else 0\n",
    "    recall = TP / (TP + FN) if (TP + FN) != 0 else 0\n",
    "    f1_score = 2 * precision * recall / (precision + recall) if (precision + recall) != 0 else 0\n",
    "    \n",
    "    return precision, recall, f1_score\n",
    "\n",
    "def roc_curve_and_auc(y_true, y_scores):\n",
    "    thresholds = np.linspace(0, 1, 100)\n",
    "    tpr_list, fpr_list = zip(*[\n",
    "        (\n",
    "            sum((y_pred := (y_scores >= t)) & y_true) / sum(y_true),\n",
    "            sum(y_pred & ~y_true) / sum(~y_true)\n",
    "        )\n",
    "        for t in thresholds\n",
    "    ])\n",
    "    return np.trapz(tpr_list, fpr_list)\n"
   ]
  },
  {
   "cell_type": "markdown",
   "metadata": {},
   "source": [
    "### 2.2 Building the model\n",
    "\n",
    "I'll use a hybrid model with an `Autoencoder` and a standard neural network `(DNN)` to detect creditcard fraud. The Autoencoder will flag high-reconstruction-error transactions as potential fraud. Then use the DNN on flagged transactions for further classification refinement.\n",
    "\n",
    "#### Activation and Loss functions :"
   ]
  },
  {
   "cell_type": "code",
   "execution_count": 17,
   "metadata": {},
   "outputs": [],
   "source": [
    "# Activation functions\n",
    "def relu(x):\n",
    "    return np.maximum(0, x)\n",
    "\n",
    "def relu_derivative(x):\n",
    "    return np.where(x > 0, 1, 0)\n",
    "\n",
    "def sigmoid(x):\n",
    "    return 1 / (1 + np.exp(-x))\n",
    "\n",
    "def sigmoid_derivative(x):\n",
    "    return sigmoid(x) * (1 - sigmoid(x))\n",
    "\n",
    "# Loss functions\n",
    "def mean_squared_error(y_true, y_pred):\n",
    "    return np.mean((y_true - y_pred)**2)\n",
    "\n",
    "def binary_cross_entropy(y_true, y_pred):\n",
    "    y_pred = np.clip(y_pred, 1e-10, 1 - 1e-10)\n",
    "    return -np.mean(y_true * np.log(y_pred) + (1 - y_true)*np.log(1 - y_pred))"
   ]
  },
  {
   "cell_type": "markdown",
   "metadata": {},
   "source": [
    "Now we want to build the autoencoder model. EXPLAINATION:::::"
   ]
  },
  {
   "cell_type": "code",
   "execution_count": 30,
   "metadata": {},
   "outputs": [],
   "source": [
    "class Autoencoder:\n",
    "    def __init__(self, input_dim, hidden_dims):\n",
    "        self.weights = []\n",
    "        self.biases = []\n",
    "\n",
    "        # Encoder layers\n",
    "        prev_dim = input_dim\n",
    "        for h_dim in hidden_dims:\n",
    "            self.weights.append(np.random.randn(prev_dim, h_dim) * 0.01)\n",
    "            self.biases.append(np.zeros((1, h_dim)))\n",
    "            prev_dim = h_dim\n",
    "\n",
    "        # Decoder layers\n",
    "        for h_dim in reversed(hidden_dims[:-1]):\n",
    "            self.weights.append(np.random.randn(prev_dim, h_dim) * 0.01)\n",
    "            self.biases.append(np.zeros((1, h_dim)))\n",
    "            prev_dim = h_dim\n",
    "        \n",
    "        # Output layer\n",
    "        self.weights.append(np.random.randn(prev_dim, input_dim) * 0.01)\n",
    "        self.biases.append(np.zeros((1, input_dim)))\n",
    "\n",
    "    def forward(self, x):\n",
    "        self.activations = [x]\n",
    "        for w, b in zip(self.weights, self.biases):\n",
    "            x = relu(np.dot(x, w) + b)\n",
    "            self.activations.append(x)\n",
    "        return x\n",
    "\n",
    "    def backward(self, x, learning_rate):\n",
    "        # Calculate reconstruction error gradient\n",
    "        delta = (self.activations[-1] - x) * relu_derivative(self.activations[-1])\n",
    "        for i in range(len(self.weights) -1, -1, -1):\n",
    "            grad_w = np.dot(self.activations[i].T, delta) / x.shape[0]\n",
    "            grad_b = np.mean(delta, axis=0, keepdims=True)\n",
    "            delta = np.dot(delta, self.weights[i].T) * relu_derivative(self.activations[i])\n",
    "            self.weights[i] -= learning_rate * grad_w\n",
    "            self.biases[i] -= learning_rate * grad_b\n",
    "\n",
    "    def train(self, x, epochs, learning_rate):\n",
    "        x = np.array(x)\n",
    "        for epoch in range(epochs):\n",
    "            output = self.forward(x)\n",
    "            loss = mean_squared_error(x, output)\n",
    "            self.backward(x, learning_rate)\n",
    "            if epoch % 10 == 0:\n",
    "                print(f\"Epoch {epoch}, Loss: {loss}\")\n",
    "\n",
    "        return loss"
   ]
  },
  {
   "cell_type": "markdown",
   "metadata": {},
   "source": [
    "The Deep Neural Network is somewhat standard"
   ]
  },
  {
   "cell_type": "code",
   "execution_count": 23,
   "metadata": {},
   "outputs": [],
   "source": [
    "class DNN:\n",
    "    def __init__(self, input_dim, hidden_dims):\n",
    "        self.weights = []\n",
    "        self.biases = []\n",
    "\n",
    "        # Hidden Layers\n",
    "        prev_dim = input_dim\n",
    "        for h_dim in hidden_dims:\n",
    "            self.weights.append(np.random.randn(prev_dim, h_dim) * 0.01)\n",
    "            self.biases.append(np.zeros((1, h_dim)))\n",
    "            prev_dim = h_dim\n",
    "\n",
    "        # Output layer\n",
    "        self.weights.append(np.random.randn(prev_dim, input_dim) * 0.01)\n",
    "        self.biases.append(np.zeros((1, input_dim)))\n",
    "\n",
    "    def forward(self, x):\n",
    "        self.activations = [x]\n",
    "        for w, b in zip(self.weights[:-1], self.biases[:-1]):\n",
    "            x = relu(np.dot(x, w) + b)\n",
    "            self.activations.append(x)\n",
    "        x = sigmoid(np.dot(x, self.weights[-1] + self.biases[-1]))\n",
    "        self.activations.append(x)\n",
    "        return x\n",
    "\n",
    "    def backward(self, y_true, y_pred, learning_rate):\n",
    "        delta = (y_pred - y_true) * sigmoid_derivative(self.activations[-1])\n",
    "        for i in range(len(self.weights) - 1, -1, -1):\n",
    "            grad_w = np.dot(self.activations[i].T, delta) / y_true.shape[0]\n",
    "            grad_b = np.mean(delta, axis=0, keepdims = True)\n",
    "            if i != 0:\n",
    "                delta = np.dot(delta, self.weights[i].T) * relu_derivative(self.activations[i])\n",
    "            self.weights[i] -= learning_rate * grad_w\n",
    "            self.biases[i] -= learning_rate * grad_b\n",
    "\n",
    "    def train(self, x, y, epochs, learning_rate):\n",
    "        for epoch in range(epochs):\n",
    "            y_pred = self.forward(x)\n",
    "            loss = binary_cross_entropy(y, y_pred)\n",
    "            self.backward(y, y_pred, learning_rate)\n",
    "            if epoch % 10 == 0:\n",
    "                print(f\"Epoch {epoch}, Loss: {loss}\")\n",
    "\n",
    "        return loss"
   ]
  },
  {
   "cell_type": "markdown",
   "metadata": {},
   "source": [
    "Build the hybrid model"
   ]
  },
  {
   "cell_type": "code",
   "execution_count": 24,
   "metadata": {},
   "outputs": [],
   "source": [
    "class HybridModel:\n",
    "    def __init__(self, autoencoder, dnn, threshold):\n",
    "        self.autoencoder = autoencoder\n",
    "        self.dnn = dnn\n",
    "        self.threshold = threshold\n",
    "\n",
    "    def predict(self, x):\n",
    "        # First stage: Autoencoder reconstruction error\n",
    "        reconstructions = self.autoencoder.forward(x)\n",
    "        reconstruction_errors = np.mean((x - reconstructions) ** 2, axis=1)\n",
    "\n",
    "        # Flag the transactions with high error\n",
    "        autoencoder_flags = reconstruction_errors > self.threshold\n",
    "\n",
    "        # Second stage: DNN for flagged transactions\n",
    "        dnn_predictions = self.dnn.forward(x[autoencode_flags])\n",
    "\n",
    "        # Final hybrid predictions\n",
    "        predictions = np.zeros(x.shape[0])\n",
    "        predictions[autoencoder_flags] = (dnn_predictions > 0.5).flatten()\n",
    "\n",
    "        return predictions"
   ]
  },
  {
   "cell_type": "markdown",
   "metadata": {},
   "source": [
    "Test the model"
   ]
  },
  {
   "cell_type": "code",
   "execution_count": 31,
   "metadata": {},
   "outputs": [
    {
     "name": "stdout",
     "output_type": "stream",
     "text": [
      "Epoch 0, Loss: 6634736.085109099\n",
      "Epoch 10, Loss: 6634740.698640414\n",
      "Epoch 20, Loss: 6634740.698622154\n",
      "Epoch 30, Loss: 6634740.698616365\n",
      "Epoch 40, Loss: 6634740.698612432\n",
      "Epoch 50, Loss: 6634740.698608614\n",
      "Epoch 60, Loss: 6634740.698604881\n",
      "Epoch 70, Loss: 6634740.698601243\n",
      "Epoch 80, Loss: 6634740.698597702\n",
      "Epoch 90, Loss: 6634740.698594267\n"
     ]
    },
    {
     "ename": "ValueError",
     "evalue": "shapes (454904,29) and (30,64) not aligned: 29 (dim 1) != 30 (dim 0)",
     "output_type": "error",
     "traceback": [
      "\u001b[0;31m---------------------------------------------------------------------------\u001b[0m",
      "\u001b[0;31mValueError\u001b[0m                                Traceback (most recent call last)",
      "Cell \u001b[0;32mIn[31], line 7\u001b[0m\n\u001b[1;32m      5\u001b[0m \u001b[38;5;66;03m# Train models\u001b[39;00m\n\u001b[1;32m      6\u001b[0m autoencoder\u001b[38;5;241m.\u001b[39mtrain(X_train[y_train \u001b[38;5;241m==\u001b[39m \u001b[38;5;241m0\u001b[39m], epochs\u001b[38;5;241m=\u001b[39m\u001b[38;5;241m100\u001b[39m, learning_rate\u001b[38;5;241m=\u001b[39m\u001b[38;5;241m0.001\u001b[39m)  \u001b[38;5;66;03m# Only on non-fraud data\u001b[39;00m\n\u001b[0;32m----> 7\u001b[0m \u001b[43mdnn\u001b[49m\u001b[38;5;241;43m.\u001b[39;49m\u001b[43mtrain\u001b[49m\u001b[43m(\u001b[49m\u001b[43mX_train\u001b[49m\u001b[43m,\u001b[49m\u001b[43m \u001b[49m\u001b[43my_train\u001b[49m\u001b[43m,\u001b[49m\u001b[43m \u001b[49m\u001b[43mepochs\u001b[49m\u001b[38;5;241;43m=\u001b[39;49m\u001b[38;5;241;43m100\u001b[39;49m\u001b[43m,\u001b[49m\u001b[43m \u001b[49m\u001b[43mlearning_rate\u001b[49m\u001b[38;5;241;43m=\u001b[39;49m\u001b[38;5;241;43m0.001\u001b[39;49m\u001b[43m)\u001b[49m\n\u001b[1;32m      9\u001b[0m \u001b[38;5;66;03m# Define a threshold based on reconstruction error\u001b[39;00m\n\u001b[1;32m     10\u001b[0m reconstruction_errors \u001b[38;5;241m=\u001b[39m np\u001b[38;5;241m.\u001b[39mmean((X_train \u001b[38;5;241m-\u001b[39m autoencoder\u001b[38;5;241m.\u001b[39mforward(X_train)) \u001b[38;5;241m*\u001b[39m\u001b[38;5;241m*\u001b[39m \u001b[38;5;241m2\u001b[39m, axis\u001b[38;5;241m=\u001b[39m\u001b[38;5;241m1\u001b[39m)\n",
      "Cell \u001b[0;32mIn[23], line 38\u001b[0m, in \u001b[0;36mDNN.train\u001b[0;34m(self, x, y, epochs, learning_rate)\u001b[0m\n\u001b[1;32m     36\u001b[0m \u001b[38;5;28;01mdef\u001b[39;00m \u001b[38;5;21mtrain\u001b[39m(\u001b[38;5;28mself\u001b[39m, x, y, epochs, learning_rate):\n\u001b[1;32m     37\u001b[0m     \u001b[38;5;28;01mfor\u001b[39;00m epoch \u001b[38;5;129;01min\u001b[39;00m \u001b[38;5;28mrange\u001b[39m(epochs):\n\u001b[0;32m---> 38\u001b[0m         y_pred \u001b[38;5;241m=\u001b[39m \u001b[38;5;28;43mself\u001b[39;49m\u001b[38;5;241;43m.\u001b[39;49m\u001b[43mforward\u001b[49m\u001b[43m(\u001b[49m\u001b[43mx\u001b[49m\u001b[43m)\u001b[49m\n\u001b[1;32m     39\u001b[0m         loss \u001b[38;5;241m=\u001b[39m binary_cross_entropy(y, y_pred)\n\u001b[1;32m     40\u001b[0m         \u001b[38;5;28mself\u001b[39m\u001b[38;5;241m.\u001b[39mbackward(y, y_pred, learning_rate)\n",
      "Cell \u001b[0;32mIn[23], line 20\u001b[0m, in \u001b[0;36mDNN.forward\u001b[0;34m(self, x)\u001b[0m\n\u001b[1;32m     18\u001b[0m \u001b[38;5;28mself\u001b[39m\u001b[38;5;241m.\u001b[39mactivations \u001b[38;5;241m=\u001b[39m [x]\n\u001b[1;32m     19\u001b[0m \u001b[38;5;28;01mfor\u001b[39;00m w, b \u001b[38;5;129;01min\u001b[39;00m \u001b[38;5;28mzip\u001b[39m(\u001b[38;5;28mself\u001b[39m\u001b[38;5;241m.\u001b[39mweights[:\u001b[38;5;241m-\u001b[39m\u001b[38;5;241m1\u001b[39m], \u001b[38;5;28mself\u001b[39m\u001b[38;5;241m.\u001b[39mbiases[:\u001b[38;5;241m-\u001b[39m\u001b[38;5;241m1\u001b[39m]):\n\u001b[0;32m---> 20\u001b[0m     x \u001b[38;5;241m=\u001b[39m relu(\u001b[43mnp\u001b[49m\u001b[38;5;241;43m.\u001b[39;49m\u001b[43mdot\u001b[49m\u001b[43m(\u001b[49m\u001b[43mx\u001b[49m\u001b[43m,\u001b[49m\u001b[43m \u001b[49m\u001b[43mw\u001b[49m\u001b[43m)\u001b[49m \u001b[38;5;241m+\u001b[39m b)\n\u001b[1;32m     21\u001b[0m     \u001b[38;5;28mself\u001b[39m\u001b[38;5;241m.\u001b[39mactivations\u001b[38;5;241m.\u001b[39mappend(x)\n\u001b[1;32m     22\u001b[0m x \u001b[38;5;241m=\u001b[39m sigmoid(np\u001b[38;5;241m.\u001b[39mdot(x, \u001b[38;5;28mself\u001b[39m\u001b[38;5;241m.\u001b[39mweights[\u001b[38;5;241m-\u001b[39m\u001b[38;5;241m1\u001b[39m] \u001b[38;5;241m+\u001b[39m \u001b[38;5;28mself\u001b[39m\u001b[38;5;241m.\u001b[39mbiases[\u001b[38;5;241m-\u001b[39m\u001b[38;5;241m1\u001b[39m]))\n",
      "\u001b[0;31mValueError\u001b[0m: shapes (454904,29) and (30,64) not aligned: 29 (dim 1) != 30 (dim 0)"
     ]
    }
   ],
   "source": [
    "# Define models\n",
    "autoencoder = Autoencoder(input_dim=29, hidden_dims=[30, 15])\n",
    "dnn = DNN(input_dim=30, hidden_dims=[64, 32, 16, 8])\n",
    "\n",
    "# Train models\n",
    "autoencoder.train(X_train[y_train == 0], epochs=100, learning_rate=0.001)  # Only on non-fraud data\n",
    "dnn.train(X_train, y_train, epochs=100, learning_rate=0.001)\n",
    "\n",
    "# Define a threshold based on reconstruction error\n",
    "reconstruction_errors = np.mean((X_train - autoencoder.forward(X_train)) ** 2, axis=1)\n",
    "threshold = np.percentile(reconstruction_errors, 95)\n",
    "\n",
    "# Initialize and use Hybrid Model\n",
    "hybrid_model = HybridModel(autoencoder, dnn, threshold)\n",
    "predictions = hybrid_model.predict(X_test)\n"
   ]
  },
  {
   "cell_type": "code",
   "execution_count": null,
   "metadata": {},
   "outputs": [],
   "source": []
  }
 ],
 "metadata": {
  "kernelspec": {
   "display_name": "credit_fraud_env",
   "language": "python",
   "name": "python3"
  },
  "language_info": {
   "codemirror_mode": {
    "name": "ipython",
    "version": 3
   },
   "file_extension": ".py",
   "mimetype": "text/x-python",
   "name": "python",
   "nbconvert_exporter": "python",
   "pygments_lexer": "ipython3",
   "version": "3.9.6"
  }
 },
 "nbformat": 4,
 "nbformat_minor": 2
}
